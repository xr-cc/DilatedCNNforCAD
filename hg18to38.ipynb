{
 "cells": [
  {
   "cell_type": "markdown",
   "metadata": {},
   "source": [
    "# Process List of SNPs: from HG18 to HG38"
   ]
  },
  {
   "cell_type": "code",
   "execution_count": 1,
   "metadata": {},
   "outputs": [],
   "source": [
    "import numpy as np\n",
    "import pandas as pd\n",
    "from pyliftover import LiftOver\n",
    "from tqdm import tqdm"
   ]
  },
  {
   "cell_type": "code",
   "execution_count": 2,
   "metadata": {},
   "outputs": [],
   "source": [
    "dir_name = \"/data/list_of_snps/\"\n",
    "\n",
    "# load list of snps\n",
    "data = pd.read_csv(dir_name+\"CARDIoGRAM_GWAS_RESULTS.txt\",\n",
    "           delim_whitespace=True)\n",
    "n = len(data)"
   ]
  },
  {
   "cell_type": "code",
   "execution_count": 3,
   "metadata": {},
   "outputs": [],
   "source": [
    "# conver hg18 to hg38 for a single SNP\n",
    "lo = LiftOver('hg18', 'hg38')"
   ]
  },
  {
   "cell_type": "code",
   "execution_count": 4,
   "metadata": {},
   "outputs": [],
   "source": [
    "pos_hg18s = data[\"chr_pos_(b36)\"].values\n",
    "pos_hg38s = [\"\" for x in range(len(pos_hg18s))]\n",
    "# pos_hg38s = np.full(pos_hg18s.shape, \" \")"
   ]
  },
  {
   "cell_type": "code",
   "execution_count": 5,
   "metadata": {},
   "outputs": [
    {
     "name": "stderr",
     "output_type": "stream",
     "text": [
      "100%|██████████| 2420360/2420360 [00:25<00:00, 94119.39it/s] \n"
     ]
    }
   ],
   "source": [
    "errors = list()\n",
    "\n",
    "for i in tqdm(range(len(pos_hg18s))):\n",
    "    pos_hg18 = pos_hg18s[i]\n",
    "    try:\n",
    "        pos_hg38 = lo.convert_coordinate(pos_hg18.split(\":\")[0],int(pos_hg18.split(\":\")[1]))\n",
    "        pos_hg38s[i] = pos_hg38[0][0]+\":\"+str(pos_hg38[0][1])\n",
    "    except:\n",
    "        errors.append((i,pos_hg18))\n"
   ]
  },
  {
   "cell_type": "code",
   "execution_count": 6,
   "metadata": {},
   "outputs": [
    {
     "name": "stdout",
     "output_type": "stream",
     "text": [
      "<class 'pandas.core.frame.DataFrame'>\n",
      "RangeIndex: 2420360 entries, 0 to 2420359\n",
      "Data columns (total 12 columns):\n",
      "SNP                     object\n",
      "chr_pos_(b36)           object\n",
      "reference_allele        object\n",
      "other_allele            object\n",
      "ref_allele_frequency    float64\n",
      "pvalue                  float64\n",
      "het_pvalue              float64\n",
      "log_odds                float64\n",
      "log_odds_se             float64\n",
      "N_case                  int64\n",
      "N_control               int64\n",
      "model                   object\n",
      "dtypes: float64(5), int64(2), object(5)\n",
      "memory usage: 221.6+ MB\n"
     ]
    }
   ],
   "source": [
    "data.info()\n",
    "data[\"chr_pos_hg38\"] = pos_hg38s"
   ]
  },
  {
   "cell_type": "code",
   "execution_count": 7,
   "metadata": {},
   "outputs": [
    {
     "name": "stdout",
     "output_type": "stream",
     "text": [
      "<class 'pandas.core.frame.DataFrame'>\n",
      "RangeIndex: 2420360 entries, 0 to 2420359\n",
      "Data columns (total 13 columns):\n",
      "SNP                     object\n",
      "chr_pos_hg38            object\n",
      "reference_allele        object\n",
      "other_allele            object\n",
      "ref_allele_frequency    float64\n",
      "pvalue                  float64\n",
      "het_pvalue              float64\n",
      "log_odds                float64\n",
      "log_odds_se             float64\n",
      "N_case                  int64\n",
      "N_control               int64\n",
      "model                   object\n",
      "chr_pos_(b36)           object\n",
      "dtypes: float64(5), int64(2), object(6)\n",
      "memory usage: 240.1+ MB\n"
     ]
    }
   ],
   "source": [
    "header = list(data.columns)\n",
    "chr_pos = header[-1]\n",
    "header[-1] = header[1]\n",
    "header[1] = chr_pos\n",
    "\n",
    "data=data.reindex(columns=header)\n",
    "data.info()"
   ]
  },
  {
   "cell_type": "code",
   "execution_count": 13,
   "metadata": {},
   "outputs": [],
   "source": [
    "data.to_csv(dir_name+\"LIST_OF_SNPS.txt\",sep='\\t', header=True, index=True)\n",
    "# np.savetxt(dir_name+\"LIST_OF_SNPS.txt\", data, header=header)"
   ]
  },
  {
   "cell_type": "code",
   "execution_count": null,
   "metadata": {},
   "outputs": [],
   "source": []
  }
 ],
 "metadata": {
  "kernelspec": {
   "display_name": "Python 3",
   "language": "python",
   "name": "python3"
  },
  "language_info": {
   "codemirror_mode": {
    "name": "ipython",
    "version": 3
   },
   "file_extension": ".py",
   "mimetype": "text/x-python",
   "name": "python",
   "nbconvert_exporter": "python",
   "pygments_lexer": "ipython3",
   "version": "3.7.3"
  }
 },
 "nbformat": 4,
 "nbformat_minor": 2
}
