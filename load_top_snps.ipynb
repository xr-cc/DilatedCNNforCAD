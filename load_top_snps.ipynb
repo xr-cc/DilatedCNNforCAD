{
 "cells": [
  {
   "cell_type": "markdown",
   "metadata": {},
   "source": [
    "# Template for loading top-ranked (by GWAS) SNPs FASTA and BIGWIG data "
   ]
  },
  {
   "cell_type": "code",
   "execution_count": 1,
   "metadata": {},
   "outputs": [],
   "source": [
    "import numpy as np\n",
    "import pandas as pd\n",
    "import pysam"
   ]
  },
  {
   "cell_type": "code",
   "execution_count": 2,
   "metadata": {},
   "outputs": [],
   "source": [
    "# load list of top SNPs\n",
    "snp_dir_name = \"/data/list_of_snps/\"\n",
    "\n",
    "# uncomment if using top 200\n",
    "# data = pd.read_csv(snp_dir_name+\"TOP_200_SNPS.txt\",delim_whitespace=True)\n",
    "# saved_dir_name = dir_name = '/data/top200snps/'\n",
    "\n",
    "# uncomment if using top 1000\n",
    "data = pd.read_csv(snp_dir_name+\"TOP_1000_SNPS.txt\",delim_whitespace=True)\n",
    "saved_dir_name = dir_name = '/data/top1000snps/'\n",
    "\n",
    "# data.info()"
   ]
  },
  {
   "cell_type": "markdown",
   "metadata": {},
   "source": [
    "## Read and process from FASTA \n",
    "### Use this block of code to get the sequences while processing."
   ]
  },
  {
   "cell_type": "code",
   "execution_count": 3,
   "metadata": {},
   "outputs": [],
   "source": [
    "# global variables\n",
    "num_bp_in_peak = 3000\n",
    "num_bp_padding = 5000\n",
    "margin = num_bp_in_peak/2 + num_bp_padding\n",
    "\n",
    "# load FASTA\n",
    "fasta_file = '/data/GRCh38.p3.genome.fa'\n",
    "fasta_open = pysam.Fastafile(fasta_file)"
   ]
  },
  {
   "cell_type": "code",
   "execution_count": 4,
   "metadata": {},
   "outputs": [],
   "source": [
    "def one_hot_encode(seq):\n",
    "    values = {'A':[1,0,0,0], 'C':[0,1,0,0], 'G':[0,0,1,0], 'T':[0,0,0,1], 'N':[0,0,0,0]}\n",
    "    return_arr = np.empty((len(seq), 4))\n",
    "    for i in range(return_arr.shape[0]):\n",
    "        return_arr[i] = values[seq[i]]\n",
    "    return return_arr\n",
    "    "
   ]
  },
  {
   "cell_type": "code",
   "execution_count": 5,
   "metadata": {},
   "outputs": [],
   "source": [
    "def get_snp_seq(fasta_open, idx, snp_chr, snp_coor, ref_snp, alt_snp ):\n",
    "    snp = fasta_open.fetch(snp_chr, snp_coor-1,snp_coor)\n",
    "    \n",
    "    start = int(snp_coor-margin)\n",
    "    end = int(snp_coor+margin)\n",
    "\n",
    "    # reference sequence\n",
    "    snp_seq_ref = fasta_open.fetch(snp_chr, start, end)\n",
    "    \n",
    "    # alternative sequence\n",
    "    if snp==ref_snp:\n",
    "        alt = alt_snp\n",
    "    elif snp==alt_snp:\n",
    "        alt = ref_snp\n",
    "    else:\n",
    "        assert False\n",
    "\n",
    "    snp_seq_before = fasta_open.fetch(snp_chr, start, snp_coor-1)\n",
    "    snp_seq_after = fasta_open.fetch(snp_chr, snp_coor, end)\n",
    "    snp_seq_alt = snp_seq_before+alt+snp_seq_after \n",
    "    \n",
    "    return snp_seq_ref, snp_seq_alt"
   ]
  },
  {
   "cell_type": "code",
   "execution_count": 16,
   "metadata": {},
   "outputs": [],
   "source": [
    "index_list = data.index.values.tolist()\n",
    "for i in range(0,len(index_list)):\n",
    "    snp = data.loc[index_list[i],:]\n",
    "    snp_pos = snp['chr_pos_hg38'].split(\":\")\n",
    "    snp_chr = snp_pos[0]\n",
    "    snp_coor = int(snp_pos[1])\n",
    "    ref_snp = snp['reference_allele']\n",
    "    alt_snp = snp['other_allele']\n",
    "    if not alt_snp in ['A','T','C','G']:\n",
    "        print(alt_snp)\n",
    "    if not ref_snp in ['A','T','C','G']:\n",
    "        print(ref_snp)\n",
    "    \n",
    "    # get sequence with reference and alternative allels\n",
    "    snp_seq_ref, snp_seq_alt = get_snp_seq(fasta_open, i, snp_chr, snp_coor, ref_snp, alt_snp)\n",
    "\n",
    "    ref_encoding = one_hot_encode(snp_seq_ref).astype(float)\n",
    "    alt_encoding = one_hot_encode(snp_seq_alt).astype(float)    \n",
    "\n",
    "    # Apply model to the sequences: ref_encoding and alt_encoding\n",
    "    # encoding's shape: (13000,4)\n",
    "    # ......\n",
    "    "
   ]
  },
  {
   "cell_type": "markdown",
   "metadata": {},
   "source": [
    "## Read from saved encoding directly\n",
    "### Use this block of code to get the saved sequences in pairs."
   ]
  },
  {
   "cell_type": "code",
   "execution_count": 3,
   "metadata": {},
   "outputs": [],
   "source": [
    "# Load encoding directly from saved files\n",
    "\n",
    "index_list = data.index.values.tolist()\n",
    "for i in range(0,len(index_list)):\n",
    "    snp = data.loc[index_list[i],:]\n",
    "    ref_encoding = np.load(saved_dir_name +\"snp\"+str(i)+\"_ref.npy\", allow_pickle=True) \n",
    "    alt_encoding = np.load(saved_dir_name +\"snp\"+str(i)+\"_alt.npy\", allow_pickle=True) \n",
    "\n",
    "    # Apply model to the sequences: ref_encoding and alt_encoding\n",
    "    # encoding's shape: (13000,4)\n",
    "    # ......"
   ]
  },
  {
   "cell_type": "code",
   "execution_count": 4,
   "metadata": {},
   "outputs": [
    {
     "name": "stdout",
     "output_type": "stream",
     "text": [
      "(13000, 4) (13000, 4)\n",
      "SNP                         rs2760736\n",
      "chr_pos_hg38            chr17:2133359\n",
      "reference_allele                    G\n",
      "other_allele                        A\n",
      "ref_allele_frequency           0.2923\n",
      "pvalue                       3.31e-05\n",
      "het_pvalue                   0.120969\n",
      "log_odds                    0.0627338\n",
      "log_odds_se                 0.0151129\n",
      "N_case                          20740\n",
      "N_control                       61672\n",
      "model                              FE\n",
      "chr_pos_(b36)           chr17:1983403\n",
      "Name: 2136339, dtype: object\n"
     ]
    }
   ],
   "source": [
    "print(ref_encoding.shape, alt_encoding.shape)\n",
    "print(snp)"
   ]
  },
  {
   "cell_type": "code",
   "execution_count": null,
   "metadata": {},
   "outputs": [],
   "source": []
  }
 ],
 "metadata": {
  "kernelspec": {
   "display_name": "Python 3",
   "language": "python",
   "name": "python3"
  },
  "language_info": {
   "codemirror_mode": {
    "name": "ipython",
    "version": 3
   },
   "file_extension": ".py",
   "mimetype": "text/x-python",
   "name": "python",
   "nbconvert_exporter": "python",
   "pygments_lexer": "ipython3",
   "version": "3.7.3"
  }
 },
 "nbformat": 4,
 "nbformat_minor": 2
}
