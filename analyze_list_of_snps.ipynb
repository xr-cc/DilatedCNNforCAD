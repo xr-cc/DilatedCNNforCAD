{
 "cells": [
  {
   "cell_type": "markdown",
   "metadata": {},
   "source": [
    "## Analyze List of GWAS SNPs "
   ]
  },
  {
   "cell_type": "code",
   "execution_count": 1,
   "metadata": {},
   "outputs": [],
   "source": [
    "import numpy as np\n",
    "import pandas as pd\n",
    "import matplotlib.pyplot as plt\n",
    "\n",
    "dir_name = \"/data/list_of_snps/\""
   ]
  },
  {
   "cell_type": "code",
   "execution_count": 2,
   "metadata": {},
   "outputs": [
    {
     "name": "stderr",
     "output_type": "stream",
     "text": [
      "/opt/anaconda3/lib/python3.7/site-packages/IPython/core/interactiveshell.py:3057: DtypeWarning: Columns (11) have mixed types. Specify dtype option on import or set low_memory=False.\n",
      "  interactivity=interactivity, compiler=compiler, result=result)\n"
     ]
    },
    {
     "name": "stdout",
     "output_type": "stream",
     "text": [
      "<class 'pandas.core.frame.DataFrame'>\n",
      "Int64Index: 2420360 entries, 0 to 2420359\n",
      "Data columns (total 13 columns):\n",
      "SNP                     object\n",
      "chr_pos_hg38            object\n",
      "reference_allele        object\n",
      "other_allele            object\n",
      "ref_allele_frequency    float64\n",
      "pvalue                  float64\n",
      "het_pvalue              float64\n",
      "log_odds                float64\n",
      "log_odds_se             float64\n",
      "N_case                  int64\n",
      "N_control               object\n",
      "model                   object\n",
      "chr_pos_(b36)           object\n",
      "dtypes: float64(5), int64(1), object(7)\n",
      "memory usage: 258.5+ MB\n"
     ]
    }
   ],
   "source": [
    "# load (processed) list of snps\n",
    "data = pd.read_csv(dir_name+\"LIST_OF_SNPS.txt\",delim_whitespace=True)\n",
    "data.info()"
   ]
  },
  {
   "cell_type": "code",
   "execution_count": 3,
   "metadata": {},
   "outputs": [
    {
     "name": "stdout",
     "output_type": "stream",
     "text": [
      "['SNP', 'chr_pos_hg38', 'reference_allele', 'other_allele', 'ref_allele_frequency', 'pvalue', 'het_pvalue', 'log_odds', 'log_odds_se', 'N_case', 'N_control', 'model', 'chr_pos_(b36)']\n"
     ]
    }
   ],
   "source": [
    "# column names\n",
    "columns = list(data.columns)"
   ]
  },
  {
   "cell_type": "code",
   "execution_count": 4,
   "metadata": {},
   "outputs": [
    {
     "data": {
      "text/html": [
       "<div>\n",
       "<style scoped>\n",
       "    .dataframe tbody tr th:only-of-type {\n",
       "        vertical-align: middle;\n",
       "    }\n",
       "\n",
       "    .dataframe tbody tr th {\n",
       "        vertical-align: top;\n",
       "    }\n",
       "\n",
       "    .dataframe thead th {\n",
       "        text-align: right;\n",
       "    }\n",
       "</style>\n",
       "<table border=\"1\" class=\"dataframe\">\n",
       "  <thead>\n",
       "    <tr style=\"text-align: right;\">\n",
       "      <th></th>\n",
       "      <th>SNP</th>\n",
       "      <th>chr_pos_hg38</th>\n",
       "      <th>reference_allele</th>\n",
       "      <th>other_allele</th>\n",
       "      <th>ref_allele_frequency</th>\n",
       "      <th>pvalue</th>\n",
       "      <th>het_pvalue</th>\n",
       "      <th>log_odds</th>\n",
       "      <th>log_odds_se</th>\n",
       "      <th>N_case</th>\n",
       "      <th>N_control</th>\n",
       "      <th>model</th>\n",
       "      <th>chr_pos_(b36)</th>\n",
       "    </tr>\n",
       "  </thead>\n",
       "  <tbody>\n",
       "    <tr>\n",
       "      <th>0</th>\n",
       "      <td>rs12565286</td>\n",
       "      <td>chr1:785910</td>\n",
       "      <td>C</td>\n",
       "      <td>G</td>\n",
       "      <td>0.053807</td>\n",
       "      <td>0.065121</td>\n",
       "      <td>0.999669</td>\n",
       "      <td>0.128201</td>\n",
       "      <td>0.069507</td>\n",
       "      <td>6659</td>\n",
       "      <td>20465</td>\n",
       "      <td>FE</td>\n",
       "      <td>chr1:711153</td>\n",
       "    </tr>\n",
       "    <tr>\n",
       "      <th>1</th>\n",
       "      <td>rs11804171</td>\n",
       "      <td>chr1:788439</td>\n",
       "      <td>T</td>\n",
       "      <td>A</td>\n",
       "      <td>0.945969</td>\n",
       "      <td>0.063282</td>\n",
       "      <td>0.999219</td>\n",
       "      <td>-0.129787</td>\n",
       "      <td>0.069883</td>\n",
       "      <td>6017</td>\n",
       "      <td>20242</td>\n",
       "      <td>FE</td>\n",
       "      <td>chr1:713682</td>\n",
       "    </tr>\n",
       "    <tr>\n",
       "      <th>2</th>\n",
       "      <td>rs3094315</td>\n",
       "      <td>chr1:817186</td>\n",
       "      <td>G</td>\n",
       "      <td>A</td>\n",
       "      <td>0.175100</td>\n",
       "      <td>0.954515</td>\n",
       "      <td>0.993459</td>\n",
       "      <td>0.001661</td>\n",
       "      <td>0.029119</td>\n",
       "      <td>9714</td>\n",
       "      <td>26820</td>\n",
       "      <td>FE</td>\n",
       "      <td>chr1:742429</td>\n",
       "    </tr>\n",
       "    <tr>\n",
       "      <th>3</th>\n",
       "      <td>rs3131968</td>\n",
       "      <td>chr1:818812</td>\n",
       "      <td>G</td>\n",
       "      <td>A</td>\n",
       "      <td>0.769870</td>\n",
       "      <td>0.357169</td>\n",
       "      <td>0.514645</td>\n",
       "      <td>-0.028962</td>\n",
       "      <td>0.031454</td>\n",
       "      <td>10213</td>\n",
       "      <td>12604</td>\n",
       "      <td>FE</td>\n",
       "      <td>chr1:744055</td>\n",
       "    </tr>\n",
       "    <tr>\n",
       "      <th>4</th>\n",
       "      <td>rs2905035</td>\n",
       "      <td>chr1:840279</td>\n",
       "      <td>G</td>\n",
       "      <td>A</td>\n",
       "      <td>0.819874</td>\n",
       "      <td>0.882315</td>\n",
       "      <td>0.531465</td>\n",
       "      <td>-0.004028</td>\n",
       "      <td>0.027213</td>\n",
       "      <td>13523</td>\n",
       "      <td>33607</td>\n",
       "      <td>FE</td>\n",
       "      <td>chr1:765522</td>\n",
       "    </tr>\n",
       "    <tr>\n",
       "      <th>5</th>\n",
       "      <td>rs2980319</td>\n",
       "      <td>chr1:841742</td>\n",
       "      <td>T</td>\n",
       "      <td>A</td>\n",
       "      <td>0.820539</td>\n",
       "      <td>0.973083</td>\n",
       "      <td>0.607472</td>\n",
       "      <td>-0.000913</td>\n",
       "      <td>0.027043</td>\n",
       "      <td>14201</td>\n",
       "      <td>33867</td>\n",
       "      <td>FE</td>\n",
       "      <td>chr1:766985</td>\n",
       "    </tr>\n",
       "    <tr>\n",
       "      <th>6</th>\n",
       "      <td>rs4040617</td>\n",
       "      <td>chr1:843942</td>\n",
       "      <td>G</td>\n",
       "      <td>A</td>\n",
       "      <td>0.136530</td>\n",
       "      <td>0.948151</td>\n",
       "      <td>0.647003</td>\n",
       "      <td>-0.001745</td>\n",
       "      <td>0.026836</td>\n",
       "      <td>13950</td>\n",
       "      <td>33841</td>\n",
       "      <td>FE</td>\n",
       "      <td>chr1:769185</td>\n",
       "    </tr>\n",
       "    <tr>\n",
       "      <th>7</th>\n",
       "      <td>rs2977612</td>\n",
       "      <td>chr1:845405</td>\n",
       "      <td>T</td>\n",
       "      <td>A</td>\n",
       "      <td>0.136586</td>\n",
       "      <td>0.998927</td>\n",
       "      <td>0.554126</td>\n",
       "      <td>0.000036</td>\n",
       "      <td>0.027141</td>\n",
       "      <td>13433</td>\n",
       "      <td>33517</td>\n",
       "      <td>FE</td>\n",
       "      <td>chr1:770648</td>\n",
       "    </tr>\n",
       "    <tr>\n",
       "      <th>8</th>\n",
       "      <td>rs2905062</td>\n",
       "      <td>chr1:849670</td>\n",
       "      <td>G</td>\n",
       "      <td>A</td>\n",
       "      <td>0.138045</td>\n",
       "      <td>0.992751</td>\n",
       "      <td>0.623961</td>\n",
       "      <td>-0.000246</td>\n",
       "      <td>0.027049</td>\n",
       "      <td>13331</td>\n",
       "      <td>33372</td>\n",
       "      <td>FE</td>\n",
       "      <td>chr1:774913</td>\n",
       "    </tr>\n",
       "    <tr>\n",
       "      <th>9</th>\n",
       "      <td>rs2980300</td>\n",
       "      <td>chr1:850609</td>\n",
       "      <td>C</td>\n",
       "      <td>T</td>\n",
       "      <td>0.853780</td>\n",
       "      <td>0.832975</td>\n",
       "      <td>0.771660</td>\n",
       "      <td>0.005474</td>\n",
       "      <td>0.025956</td>\n",
       "      <td>14715</td>\n",
       "      <td>34231</td>\n",
       "      <td>FE</td>\n",
       "      <td>chr1:775852</td>\n",
       "    </tr>\n",
       "  </tbody>\n",
       "</table>\n",
       "</div>"
      ],
      "text/plain": [
       "          SNP chr_pos_hg38 reference_allele other_allele  \\\n",
       "0  rs12565286  chr1:785910                C            G   \n",
       "1  rs11804171  chr1:788439                T            A   \n",
       "2   rs3094315  chr1:817186                G            A   \n",
       "3   rs3131968  chr1:818812                G            A   \n",
       "4   rs2905035  chr1:840279                G            A   \n",
       "5   rs2980319  chr1:841742                T            A   \n",
       "6   rs4040617  chr1:843942                G            A   \n",
       "7   rs2977612  chr1:845405                T            A   \n",
       "8   rs2905062  chr1:849670                G            A   \n",
       "9   rs2980300  chr1:850609                C            T   \n",
       "\n",
       "   ref_allele_frequency    pvalue  het_pvalue  log_odds  log_odds_se  N_case  \\\n",
       "0              0.053807  0.065121    0.999669  0.128201     0.069507    6659   \n",
       "1              0.945969  0.063282    0.999219 -0.129787     0.069883    6017   \n",
       "2              0.175100  0.954515    0.993459  0.001661     0.029119    9714   \n",
       "3              0.769870  0.357169    0.514645 -0.028962     0.031454   10213   \n",
       "4              0.819874  0.882315    0.531465 -0.004028     0.027213   13523   \n",
       "5              0.820539  0.973083    0.607472 -0.000913     0.027043   14201   \n",
       "6              0.136530  0.948151    0.647003 -0.001745     0.026836   13950   \n",
       "7              0.136586  0.998927    0.554126  0.000036     0.027141   13433   \n",
       "8              0.138045  0.992751    0.623961 -0.000246     0.027049   13331   \n",
       "9              0.853780  0.832975    0.771660  0.005474     0.025956   14715   \n",
       "\n",
       "  N_control model chr_pos_(b36)  \n",
       "0     20465    FE   chr1:711153  \n",
       "1     20242    FE   chr1:713682  \n",
       "2     26820    FE   chr1:742429  \n",
       "3     12604    FE   chr1:744055  \n",
       "4     33607    FE   chr1:765522  \n",
       "5     33867    FE   chr1:766985  \n",
       "6     33841    FE   chr1:769185  \n",
       "7     33517    FE   chr1:770648  \n",
       "8     33372    FE   chr1:774913  \n",
       "9     34231    FE   chr1:775852  "
      ]
     },
     "execution_count": 4,
     "metadata": {},
     "output_type": "execute_result"
    }
   ],
   "source": [
    "# view first 10 rows of data\n",
    "data[0:10]"
   ]
  },
  {
   "cell_type": "code",
   "execution_count": 12,
   "metadata": {},
   "outputs": [
    {
     "data": {
      "image/png": "[encoded data removed]",
      "text/plain": [
       "<Figure size 432x288 with 1 Axes>"
      ]
     },
     "metadata": {
      "needs_background": "light"
     },
     "output_type": "display_data"
    },
    {
     "data": {
      "image/png": "[encoded data removed]",
      "text/plain": [
       "<Figure size 432x288 with 1 Axes>"
      ]
     },
     "metadata": {
      "needs_background": "light"
     },
     "output_type": "display_data"
    }
   ],
   "source": [
    "# visualize data\n",
    "plt.figure()\n",
    "plt.hist(np.log(data[\"pvalue\"]), bins=200)\n",
    "plt.xlabel('log of p value')\n",
    "plt.show()\n",
    "\n",
    "plt.figure()\n",
    "plt.boxplot(data[\"pvalue\"])\n",
    "plt.ylabel('p value')\n",
    "plt.show()"
   ]
  },
  {
   "cell_type": "code",
   "execution_count": null,
   "metadata": {},
   "outputs": [],
   "source": [
    "# simple analysis of pvalue\n",
    "print(\"total \", len(data[\"pvalue\"]))\n",
    "print(\"<0.01  \", np.sum(np.abs(data[\"pvalue\"])<0.01))\n",
    "print(\"<1e-3  \", np.sum(np.abs(data[\"pvalue\"])<1e-3))\n",
    "print(\"<1e-5  \", np.sum(np.abs(data[\"pvalue\"])<1e-5))\n",
    "print(\"<5e-7  \", np.sum(np.abs(data[\"pvalue\"])<5e-7))"
   ]
  }
 ],
 "metadata": {
  "kernelspec": {
   "display_name": "Python 3",
   "language": "python",
   "name": "python3"
  },
  "language_info": {
   "codemirror_mode": {
    "name": "ipython",
    "version": 3
   },
   "file_extension": ".py",
   "mimetype": "text/x-python",
   "name": "python",
   "nbconvert_exporter": "python",
   "pygments_lexer": "ipython3",
   "version": "3.7.3"
  }
 },
 "nbformat": 4,
 "nbformat_minor": 2
}
