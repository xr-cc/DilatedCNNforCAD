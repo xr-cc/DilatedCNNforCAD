{
 "cells": [
  {
   "cell_type": "markdown",
   "metadata": {},
   "source": [
    "# Performance of benchmark model (SVM) on prioritizing causal SNPs"
   ]
  },
  {
   "cell_type": "code",
   "execution_count": 5,
   "metadata": {},
   "outputs": [],
   "source": [
    "import numpy as np\n",
    "import pandas as pd\n",
    "import pysam\n",
    "\n",
    "from sklearn import svm\n",
    "from sklearn import metrics \n",
    "from sklearn.svm import LinearSVR\n",
    "from scipy import sparse\n",
    "from sklearn.externals import joblib\n"
   ]
  },
  {
   "cell_type": "code",
   "execution_count": 6,
   "metadata": {},
   "outputs": [],
   "source": [
    "model = joblib.load('finalized_model.sav')"
   ]
  },
  {
   "cell_type": "code",
   "execution_count": 7,
   "metadata": {},
   "outputs": [],
   "source": [
    "# load list of top SNPs\n",
    "snp_dir_name = \"/data/list_of_snps/\"\n",
    "\n",
    "# uncomment if using top 200\n",
    "# data = pd.read_csv(snp_dir_name+\"TOP_200_SNPS.txt\",delim_whitespace=True)\n",
    "# saved_dir_name = dir_name = '/data/top200snps/'\n",
    "\n",
    "# uncomment if using top 1000\n",
    "data = pd.read_csv(snp_dir_name+\"TOP_10000_SNPS.txt\",delim_whitespace=True)\n",
    "saved_dir_name = '/data/top10000snps/'\n",
    "\n",
    "# data.info()"
   ]
  },
  {
   "cell_type": "code",
   "execution_count": 8,
   "metadata": {},
   "outputs": [],
   "source": [
    "'''\n",
    "Function to extract X data for benchmark regressor\n",
    "(Those regressors predict one point at a time.)\n",
    "'''\n",
    "def extract_benchmark_X(sample_Xs, half_center_size, half_feature_size):\n",
    "       \n",
    "    # feature (X)\n",
    "    ft_center_idx = int(np.ceil(sample_Xs.shape[0]/2))\n",
    "    ftlb_h_idx = ft_center_idx-half_center_size\n",
    "    ftlb_t_idx = ft_center_idx+half_center_size\n",
    "\n",
    "    seg_X = np.empty([1,2*half_feature_size*sample_Xs.shape[1]])\n",
    "    for idx in range(ftlb_h_idx,ftlb_t_idx):\n",
    "        ft_h_idx = idx-half_feature_size\n",
    "        ft_t_idx = idx+half_feature_size\n",
    "        seg_features_idx = sample_Xs[ft_h_idx:ft_t_idx,:]\n",
    "        seg_features_idx = seg_features_idx.reshape(1,-1)\n",
    "        seg_X = np.concatenate((seg_X, seg_features_idx), axis=0)  \n",
    "    seg_X = seg_X[1:,:]  \n",
    "\n",
    "    # X for SVM \n",
    "    bm_X = seg_X.reshape(-1,seg_X.shape[-1])\n",
    "    \n",
    "    return bm_X"
   ]
  },
  {
   "cell_type": "code",
   "execution_count": 13,
   "metadata": {},
   "outputs": [],
   "source": [
    "def extract_benchmark_y(sample_ys, half_center_size):\n",
    "       \n",
    "    # label (Y)\n",
    "    lb_center_idx = int(np.ceil(sample_ys.shape[0]/2))\n",
    "    lb_h_idx = lb_center_idx-half_center_size\n",
    "    lb_t_idx = lb_center_idx+half_center_size\n",
    "    seg_y = sample_ys[lb_h_idx:lb_t_idx]\n",
    "\n",
    "    # y for SVM \n",
    "    bm_y = seg_y.flatten()\n",
    "    \n",
    "    return bm_y"
   ]
  },
  {
   "cell_type": "code",
   "execution_count": 14,
   "metadata": {},
   "outputs": [],
   "source": [
    "half_center_size = 2  # +/- values around a peak to predict\n",
    "half_feature_size = 25 # +/- values around each point to take in as features"
   ]
  },
  {
   "cell_type": "code",
   "execution_count": 15,
   "metadata": {},
   "outputs": [],
   "source": [
    "err_SNPs_idx = [3082, 8246, 8449, 9509]\n",
    "# valid_ind = list(range(0,len(index_list)))\n",
    "# for err in err_SNPs_idx:\n",
    "#     valid_ind.remove(err)\n",
    "# print(len(valid_ind))"
   ]
  },
  {
   "cell_type": "code",
   "execution_count": null,
   "metadata": {},
   "outputs": [],
   "source": [
    "# Load encoding directly from saved files\n",
    "\n",
    "index_list = data.index.values.tolist()\n",
    "sum_diff = list()\n",
    "max_diff = list()\n",
    "max_log_fold = list()\n",
    "mse = list()\n",
    "\n",
    "for i in range(0,len(index_list)):\n",
    "    if i in err_SNPs_idx:\n",
    "        sum_diff.append(0)\n",
    "        max_diff.append(0)\n",
    "        max_log_fold.append(0)\n",
    "    else:    \n",
    "        snp = data.loc[index_list[i],:]\n",
    "        ref_encoding = np.load(saved_dir_name +\"snp\"+str(i)+\"_ref.npy\", allow_pickle=True) \n",
    "        alt_encoding = np.load(saved_dir_name +\"snp\"+str(i)+\"_alt.npy\", allow_pickle=True)\n",
    "        atac = np.load(saved_dir_name +\"snp\"+str(i)+\"_atac.npy\", allow_pickle=True)\n",
    "\n",
    "        # Apply model to the sequences: ref_encoding and alt_encoding\n",
    "        # encoding's shape: (13000,4)\n",
    "        ref_X = extract_benchmark_X(ref_encoding, half_center_size,half_feature_size)\n",
    "        alt_X = extract_benchmark_X(alt_encoding, half_center_size,half_feature_size)\n",
    "        s_ref_X = sparse.csr_matrix(ref_X)\n",
    "        s_alt_X = sparse.csr_matrix(alt_X)\n",
    "        true_y = extract_benchmark_y(atac, half_center_size)\n",
    "\n",
    "        ref_pred = model.predict(s_ref_X)\n",
    "        alt_pred = model.predict(s_alt_X)\n",
    "        # MSE\n",
    "        svm_mse = metrics.mean_squared_error(true_y, ref_pred)  \n",
    "        mse.append(svm_mse)\n",
    "\n",
    "        diff = np.abs(alt_pred-ref_pred)\n",
    "        sum_diff.append(np.sum(diff))\n",
    "        max_diff.append(np.max(diff))\n",
    "        max_log_fold.append(np.max(diff/ref_pred))\n",
    "        \n",
    "#         print(i,svm_mse)\n"
   ]
  },
  {
   "cell_type": "code",
   "execution_count": 11,
   "metadata": {},
   "outputs": [],
   "source": [
    "data['sum_diff'] = sum_diff \n",
    "data['max_diff'] = max_diff \n",
    "data['max_log_fold'] = max_log_fold \n",
    "\n",
    "data.to_csv(\"/data/results/svm_10000.csv\", index=True)"
   ]
  },
  {
   "cell_type": "code",
   "execution_count": null,
   "metadata": {},
   "outputs": [],
   "source": [
    "import matplotlib.pyplot as plt"
   ]
  },
  {
   "cell_type": "code",
   "execution_count": 78,
   "metadata": {},
   "outputs": [
    {
     "data": {
      "text/plain": [
       "<matplotlib.legend.Legend at 0x7f2b0cc50550>"
      ]
     },
     "execution_count": 78,
     "metadata": {},
     "output_type": "execute_result"
    },
    {
     "data": {
      "image/png": "[encoded data removed]",
      "text/plain": [
       "<Figure size 432x288 with 1 Axes>"
      ]
     },
     "metadata": {
      "needs_background": "light"
     },
     "output_type": "display_data"
    }
   ],
   "source": [
    "plt.figure()\n",
    "plt.hist(max_diff, alpha=0.5, label=\"max diff\")\n",
    "plt.hist(sum_diff, alpha=0.5, label=\"sum diff\")\n",
    "plt.legend()"
   ]
  },
  {
   "cell_type": "code",
   "execution_count": 7,
   "metadata": {},
   "outputs": [],
   "source": [
    "snps = np.array(data[\"SNP\"].values.tolist())"
   ]
  },
  {
   "cell_type": "code",
   "execution_count": 20,
   "metadata": {},
   "outputs": [],
   "source": [
    "max_diff_idx = np.argsort(-max_diff)\n",
    "sum_diff_idx = np.argsort(-sum_diff)\n",
    "max_lfc_idx = np.argsort(-max_log_fold)\n",
    "\n",
    "max_diff = np.array(max_diff)\n",
    "sum_diff = np.array(sum_diff)\n",
    "max_log_fold = np.array(max_log_fold)"
   ]
  },
  {
   "cell_type": "code",
   "execution_count": 21,
   "metadata": {},
   "outputs": [
    {
     "name": "stdout",
     "output_type": "stream",
     "text": [
      "SVM Baseline\n",
      "Top 25 SNPs ranked by max diff\n",
      "[['rs1556515' '0.5739259796542244']\n",
      " ['rs216190' '0.4698349252738081']\n",
      " ['rs12714182' '0.46145527255105523']\n",
      " ['rs12938295' '0.4599538261636047']\n",
      " ['rs6502629' '0.4575484869145712']\n",
      " ['rs944766' '0.4497078939189554']\n",
      " ['rs7181432' '0.4478060112481146']\n",
      " ['rs2277545' '0.4458450201708051']\n",
      " ['rs6782181' '0.43848963750205816']\n",
      " ['rs2078851' '0.4358722709526486']\n",
      " ['rs10774625' '0.4282980991607026']\n",
      " ['rs10790162' '0.42668235961647283']\n",
      " ['rs2504927' '0.42316533453164573']\n",
      " ['rs6919980' '0.41742617126990567']\n",
      " ['rs12980480' '0.40804197786217866']\n",
      " ['rs10847503' '0.40630421064646804']\n",
      " ['rs9978407' '0.4009364966250588']\n",
      " ['rs9375990' '0.4007232525260278']\n",
      " ['rs3184504' '0.40010603097426234']\n",
      " ['rs4925093' '0.3987026934912401']\n",
      " ['rs10757264' '0.39860636696706764']\n",
      " ['rs950966' '0.39575370592719805']\n",
      " ['rs1056854' '0.3946499788753459']\n",
      " ['rs1004467' '0.39458992223795963']\n",
      " ['rs10774613' '0.3936514269037521']]\n",
      "Top 25 SNPs ranked by max log fold\n",
      "[['rs4662414' '36.33979581323244']\n",
      " ['rs8105901' '23.48309913596575']\n",
      " ['rs501120' '18.941042114824683']\n",
      " ['rs7212538' '17.831103925940827']\n",
      " ['rs2165556' '10.628060499581311']\n",
      " ['rs7639011' '4.131476800738632']\n",
      " ['rs11191511' '3.7313221365876417']\n",
      " ['rs9319295' '3.540805685862089']\n",
      " ['rs6453649' '2.6944385756205906']\n",
      " ['rs2489957' '2.634867746691866']\n",
      " ['rs1360590' '2.323139864348163']\n",
      " ['rs8066372' '2.1559833919903415']\n",
      " ['rs10790162' '1.9330932936664862']\n",
      " ['rs11072794' '1.6306247191790626']\n",
      " ['rs12602764' '1.4953210985690892']\n",
      " ['rs2395656' '1.3027981620529339']\n",
      " ['rs2393775' '1.1300283432140923']\n",
      " ['rs216183' '1.1188317693709369']\n",
      " ['rs3127591' '1.0655328945133822']\n",
      " ['rs10811641' '1.0627497770902852']\n",
      " ['rs11166641' '1.0574684821837999']\n",
      " ['rs10511701' '1.0509339935983288']\n",
      " ['rs7616575' '1.0282070503700536']\n",
      " ['rs2103325' '0.9270019274798138']\n",
      " ['rs7752775' '0.9202407870279486']]\n"
     ]
    }
   ],
   "source": [
    "print(\"SVM Baseline\")\n",
    "print(\"Top 25 SNPs ranked by max diff\")\n",
    "print(np.transpose([snps[max_diff_idx[0:25]],max_diff[max_diff_idx[0:25]]]))\n",
    "print(\"Top 25 SNPs ranked by max log fold\")\n",
    "print(np.transpose([snps[max_lfc_idx[0:25]],max_log_fold[max_lfc_idx[0:25]]]))"
   ]
  },
  {
   "cell_type": "code",
   "execution_count": null,
   "metadata": {},
   "outputs": [],
   "source": []
  }
 ],
 "metadata": {
  "kernelspec": {
   "display_name": "Python 3",
   "language": "python",
   "name": "python3"
  },
  "language_info": {
   "codemirror_mode": {
    "name": "ipython",
    "version": 3
   },
   "file_extension": ".py",
   "mimetype": "text/x-python",
   "name": "python",
   "nbconvert_exporter": "python",
   "pygments_lexer": "ipython3",
   "version": "3.7.3"
  }
 },
 "nbformat": 4,
 "nbformat_minor": 2
}
