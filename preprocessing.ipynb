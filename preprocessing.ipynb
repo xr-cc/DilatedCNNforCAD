{
 "cells": [
  {
   "cell_type": "markdown",
   "metadata": {},
   "source": [
    "# Preprocessing FASTA and BIGWIG data"
   ]
  },
  {
   "cell_type": "code",
   "execution_count": null,
   "metadata": {},
   "outputs": [],
   "source": [
    "# from basenji import genome\n",
    "import pysam\n",
    "from scipy.signal import find_peaks\n",
    "import pyBigWig\n",
    "import random\n",
    "import numpy as np\n",
    "# from basenji.dna_io import dna_1hot\n",
    "import os\n",
    "import pandas as pd\n",
    "from keras.utils import to_categorical"
   ]
  },
  {
   "cell_type": "code",
   "execution_count": null,
   "metadata": {},
   "outputs": [],
   "source": [
    "# global variables\n",
    "num_bp_in_peak = 3000\n",
    "num_bp_padding = 5000\n",
    "down_sample = 1.0\n",
    "margin = num_bp_in_peak/2 + num_bp_padding\n",
    "dir_name = '/data/smooth_muscle_cells'\n",
    "fasta_file = '/data/GRCh38.p3.genome.fa'\n",
    "bigwig_file = '/data/TQ326-pooled_ATAC_USPD16083803_HHHJMBBXX_L4_1.merged.nodup.no_chrM_MT.tn5.fc.signal.bigwig'\n",
    "peak_file = '/data/rep1-pr1_vs_rep1-pr2.overlap.bfilt.narrowPeak.gz'\n",
    "test = 0.1\n",
    "validation = 0.1\n",
    "min_prominence = 0.7\n",
    "val_chromosome = 'chr9'\n",
    "test_chromosome = 'chr17'"
   ]
  },
  {
   "cell_type": "code",
   "execution_count": null,
   "metadata": {},
   "outputs": [],
   "source": [
    "# os.mkdir(dir_name)\n",
    "os.mkdir(dir_name+\"/sequences\")\n",
    "os.mkdir(dir_name+\"/peak_data\")\n"
   ]
  },
  {
   "cell_type": "code",
   "execution_count": null,
   "metadata": {},
   "outputs": [],
   "source": [
    "bw = pyBigWig.open(bigwig_file, 'r')\n",
    "fasta_open = pysam.Fastafile(fasta_file)\n",
    "# write_given_peak_data(peak_file, bw, fasta_open)"
   ]
  },
  {
   "cell_type": "code",
   "execution_count": null,
   "metadata": {},
   "outputs": [],
   "source": [
    "chrm_peaks = {}\n",
    "non_peaks = {}\n",
    "bw = pyBigWig.open(bigwig_file, 'r')\n",
    "fasta_open = pysam.Fastafile(fasta_file)\n",
    "def determine_peaks():\n",
    "    for chromosome_name, length in bw.chroms().items():\n",
    "        if len(chromosome_name) < 6:\n",
    "            # then doesn't include variant \n",
    "            start = num_bp_padding + num_bp_in_peak\n",
    "            end = length - num_bp_padding - num_bp_in_peak\n",
    "            values = bw.values(chromosome_name, start, end)\n",
    "            peaks, _ = find_peaks(values, distance=num_bp_in_peak, prominence=(min_prominence, 1.0))\n",
    "            chrm_peaks[chromosome_name] = peaks\n",
    "            non_peaks[chromosome_name] = []\n",
    "            for i in range(len(peaks) - 1):\n",
    "                curr_peak_val = peaks[i]\n",
    "                end_peak_val = peaks[i+1]\n",
    "                while curr_peak_val + num_bp_in_peak < end_peak_val:\n",
    "                    # found a non-peak that doesn't directly overlap with adjacent peak / non-peak\n",
    "                    non_peaks[chromosome_name].append(curr_peak_val + num_bp_in_peak)\n",
    "                    curr_peak_val += num_bp_in_peak\n",
    "        break"
   ]
  },
  {
   "cell_type": "code",
   "execution_count": null,
   "metadata": {},
   "outputs": [],
   "source": [
    "for chromosome_name in chrm_peaks:\n",
    "    write_chr_data(chromosome_name, chrm_peaks[chromosome_name], non_peaks[chromosome_name], bw, fasta_open)"
   ]
  },
  {
   "cell_type": "code",
   "execution_count": null,
   "metadata": {},
   "outputs": [],
   "source": [
    "def write_chr_data(chromosome_name, peaks, non_peaks, bw, fasta_open):\n",
    "    num_peaks = int(len(peaks)*down_sample)\n",
    "    num_non_peaks = int(len(non_peaks)*down_sample)\n",
    "    min_val = min(num_peaks, num_non_peaks)\n",
    "    peaks = np.random.choice(peaks, min_val, replace=False)\n",
    "    non_peaks = np.random.choice(non_peaks, min_val, replace=False)\n",
    "    validation_index = int(min_val*test)\n",
    "    train_index = int(min_val*(test+validation))\n",
    "    for i in range(0, min_val):\n",
    "        if i == 0:\n",
    "            num_sample = 0\n",
    "            partition = \"test\"\n",
    "        elif i == validation_index:\n",
    "            num_sample = 0\n",
    "            partition = \"validation\"\n",
    "        elif i == train_index:\n",
    "            num_sample = 0\n",
    "            partition = \"train\"\n",
    "        write_peak_data(peaks[i], bw, fasta_open, partition, num_sample, chromosome_name)\n",
    "        num_sample += 1\n",
    "        write_peak_data(non_peaks[i], bw, fasta_open, partition, num_sample, chromosome_name)\n",
    "        num_sample += 1\n"
   ]
  },
  {
   "cell_type": "code",
   "execution_count": null,
   "metadata": {},
   "outputs": [],
   "source": [
    "def one_hot_encode(seq):\n",
    "    values = {'A':[1,0,0,0], 'C':[0,1,0,0], 'G':[0,0,1,0], 'T':[0,0,0,1], 'N':[0,0,0,0]}\n",
    "    return_arr = np.empty((len(seq), 4))\n",
    "    for i in range(return_arr.shape[0]):\n",
    "        return_arr[i] = values[seq[i]]\n",
    "    return return_arr\n",
    "    "
   ]
  },
  {
   "cell_type": "code",
   "execution_count": null,
   "metadata": {},
   "outputs": [],
   "source": [
    "def write_peak_data(center_of_peak, bw, fasta_open, partition, num_sample, chromosome_name):\n",
    "    start = int(center_of_peak-margin)\n",
    "    end = int(center_of_peak+margin)\n",
    "    if end < bw.chroms()[chromosome_name] and start>1:\n",
    "        peak_seq = fasta_open.fetch(chromosome_name, start, end)\n",
    "        start = int(center_of_peak-num_bp_in_peak/2)\n",
    "        end = int(center_of_peak+num_bp_in_peak/2)\n",
    "        peak_data = bw.values(chromosome_name, start, end)\n",
    "        encoding = one_hot_encode(peak_seq).astype(float)\n",
    "        np.save(dir_name+\"/sequences/\"+partition+str(num_sample), encoding, allow_pickle=True) \n",
    "        np.save(dir_name+\"/peak_data/\"+partition+str(num_sample), peak_data, allow_pickle=True)\n"
   ]
  },
  {
   "cell_type": "code",
   "execution_count": null,
   "metadata": {},
   "outputs": [],
   "source": [
    "def write_given_peak_data(peak_file, bw, fasta_open):\n",
    "    peak_df = pd.read_csv(peak_file, sep='\\t', names=['chr_name', 'start', 'end', 'peak_name', 'peak_len', 'dot', 'num1', 'num2','num3','num4'])\n",
    "    unique_vals = peak_df[['chr_name', 'start', 'end']].drop_duplicates() \n",
    "    vals = unique_vals.to_numpy()\n",
    "    permutation = np.random.permutation(vals)\n",
    "#     validation_index = int(len(permutation)*test)\n",
    "#     train_index = int(len(permutation)*(test+validation))\n",
    "    train_index = -1\n",
    "    test_index = -1\n",
    "    val_index = -1\n",
    "    for chr_name, start, end in permutation:\n",
    "        if chr_name == val_chromosome:\n",
    "            partition = \"validation\"\n",
    "            val_index += 1\n",
    "            num_sample = val_index\n",
    "        elif chr_name == test_chromosome:\n",
    "            partition = \"test\"\n",
    "            test_index += 1\n",
    "            num_sample = test_index\n",
    "        else:\n",
    "            partition = \"train\"\n",
    "            train_index += 1\n",
    "            num_sample = train_index\n",
    "#         if i == 0:\n",
    "#             num_sample = 0\n",
    "#             partition = \"test\"\n",
    "#         elif i == validation_index:\n",
    "#             num_sample = 0\n",
    "#             partition = \"validation\"\n",
    "#         elif i == train_index:\n",
    "#             num_sample = 0\n",
    "#             partition = \"train\"\n",
    "        center_of_peak = start + int((end - start)/2)\n",
    "        write_peak_data(center_of_peak, bw, fasta_open, partition, num_sample, chr_name)\n",
    "    "
   ]
  },
  {
   "cell_type": "code",
   "execution_count": null,
   "metadata": {},
   "outputs": [],
   "source": [
    "peak_df = pd.read_csv(peak_file, sep='\\t', names=['chr_name', 'start', 'end', 'peak_name', 'peak_len', 'dot', 'num1', 'num2','num3','num4'])\n"
   ]
  },
  {
   "cell_type": "code",
   "execution_count": null,
   "metadata": {},
   "outputs": [],
   "source": [
    "diffs = peak_df['end'] - peak_df['start']\n",
    "diffs = diffs[diffs < 2500]\n",
    "\n",
    "print(diffs.min())\n",
    "print(diffs.max())\n"
   ]
  },
  {
   "cell_type": "code",
   "execution_count": null,
   "metadata": {},
   "outputs": [],
   "source": [
    "import matplotlib.pyplot as plt\n",
    "plt.hist(list(diffs.values))\n",
    "plt.xlabel(\"length of peak\")\n",
    "plt.ylabel(\"frequency\")\n",
    "plt.show()"
   ]
  },
  {
   "cell_type": "code",
   "execution_count": null,
   "metadata": {},
   "outputs": [],
   "source": [
    "len(diffs)"
   ]
  },
  {
   "cell_type": "code",
   "execution_count": null,
   "metadata": {},
   "outputs": [],
   "source": []
  }
 ],
 "metadata": {
  "kernelspec": {
   "display_name": "Python 3",
   "language": "python",
   "name": "python3"
  },
  "language_info": {
   "codemirror_mode": {
    "name": "ipython",
    "version": 3
   },
   "file_extension": ".py",
   "mimetype": "text/x-python",
   "name": "python",
   "nbconvert_exporter": "python",
   "pygments_lexer": "ipython3",
   "version": "3.7.3"
  }
 },
 "nbformat": 4,
 "nbformat_minor": 2
}
