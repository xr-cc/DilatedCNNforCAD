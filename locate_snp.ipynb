{
 "cells": [
  {
   "cell_type": "markdown",
   "metadata": {},
   "source": [
    "# Locate SNP on hg38 by its name"
   ]
  },
  {
   "cell_type": "code",
   "execution_count": 2,
   "metadata": {},
   "outputs": [],
   "source": [
    "import numpy as np\n",
    "import pandas as pd\n",
    "import pysam"
   ]
  },
  {
   "cell_type": "code",
   "execution_count": 2,
   "metadata": {},
   "outputs": [
    {
     "name": "stdout",
     "output_type": "stream",
     "text": [
      "<class 'pandas.core.frame.DataFrame'>\n",
      "Int64Index: 1000 entries, 1361838 to 2136339\n",
      "Data columns (total 13 columns):\n",
      "SNP                     1000 non-null object\n",
      "chr_pos_hg38            1000 non-null object\n",
      "reference_allele        1000 non-null object\n",
      "other_allele            1000 non-null object\n",
      "ref_allele_frequency    1000 non-null float64\n",
      "pvalue                  1000 non-null float64\n",
      "het_pvalue              1000 non-null float64\n",
      "log_odds                1000 non-null float64\n",
      "log_odds_se             1000 non-null float64\n",
      "N_case                  1000 non-null int64\n",
      "N_control               1000 non-null int64\n",
      "model                   1000 non-null object\n",
      "chr_pos_(b36)           1000 non-null object\n",
      "dtypes: float64(5), int64(2), object(6)\n",
      "memory usage: 109.4+ KB\n"
     ]
    }
   ],
   "source": [
    "# load list of top SNPs\n",
    "snp_dir_name = \"/data/list_of_snps/\"\n",
    "\n",
    "# uncomment if using top 200\n",
    "# data = pd.read_csv(snp_dir_name+\"TOP_200_SNPS.txt\",delim_whitespace=True)\n",
    "# saved_dir_name = dir_name = '/data/top200snps/'\n",
    "\n",
    "# uncomment if using top 1000\n",
    "data = pd.read_csv(snp_dir_name+\"TOP_1000_SNPS.txt\",delim_whitespace=True)\n",
    "saved_dir_name = dir_name = '/data/top1000snps/'\n",
    "\n",
    "data.info()"
   ]
  },
  {
   "cell_type": "code",
   "execution_count": 13,
   "metadata": {},
   "outputs": [],
   "source": [
    "SNP_name = 'rs2489957'"
   ]
  },
  {
   "cell_type": "code",
   "execution_count": 14,
   "metadata": {},
   "outputs": [],
   "source": [
    "idx = data.index[data['SNP'] == SNP_name].tolist()"
   ]
  },
  {
   "cell_type": "code",
   "execution_count": 15,
   "metadata": {},
   "outputs": [
    {
     "data": {
      "text/html": [
       "<div>\n",
       "<style scoped>\n",
       "    .dataframe tbody tr th:only-of-type {\n",
       "        vertical-align: middle;\n",
       "    }\n",
       "\n",
       "    .dataframe tbody tr th {\n",
       "        vertical-align: top;\n",
       "    }\n",
       "\n",
       "    .dataframe thead th {\n",
       "        text-align: right;\n",
       "    }\n",
       "</style>\n",
       "<table border=\"1\" class=\"dataframe\">\n",
       "  <thead>\n",
       "    <tr style=\"text-align: right;\">\n",
       "      <th></th>\n",
       "      <th>SNP</th>\n",
       "      <th>chr_pos_hg38</th>\n",
       "      <th>reference_allele</th>\n",
       "      <th>other_allele</th>\n",
       "      <th>ref_allele_frequency</th>\n",
       "      <th>pvalue</th>\n",
       "      <th>het_pvalue</th>\n",
       "      <th>log_odds</th>\n",
       "      <th>log_odds_se</th>\n",
       "      <th>N_case</th>\n",
       "      <th>N_control</th>\n",
       "      <th>model</th>\n",
       "      <th>chr_pos_(b36)</th>\n",
       "    </tr>\n",
       "  </thead>\n",
       "  <tbody>\n",
       "    <tr>\n",
       "      <th>1040448</th>\n",
       "      <td>rs2489957</td>\n",
       "      <td>chr6:160895096</td>\n",
       "      <td>G</td>\n",
       "      <td>A</td>\n",
       "      <td>0.695168</td>\n",
       "      <td>0.000019</td>\n",
       "      <td>0.365673</td>\n",
       "      <td>-0.067402</td>\n",
       "      <td>0.015748</td>\n",
       "      <td>17908</td>\n",
       "      <td>58271</td>\n",
       "      <td>FE</td>\n",
       "      <td>chr6:161236118</td>\n",
       "    </tr>\n",
       "  </tbody>\n",
       "</table>\n",
       "</div>"
      ],
      "text/plain": [
       "               SNP    chr_pos_hg38 reference_allele other_allele  \\\n",
       "1040448  rs2489957  chr6:160895096                G            A   \n",
       "\n",
       "         ref_allele_frequency    pvalue  het_pvalue  log_odds  log_odds_se  \\\n",
       "1040448              0.695168  0.000019    0.365673 -0.067402     0.015748   \n",
       "\n",
       "         N_case  N_control model   chr_pos_(b36)  \n",
       "1040448   17908      58271    FE  chr6:161236118  "
      ]
     },
     "execution_count": 15,
     "metadata": {},
     "output_type": "execute_result"
    }
   ],
   "source": [
    "data.loc[idx,:]"
   ]
  },
  {
   "cell_type": "code",
   "execution_count": null,
   "metadata": {},
   "outputs": [],
   "source": []
  }
 ],
 "metadata": {
  "kernelspec": {
   "display_name": "Python 3",
   "language": "python",
   "name": "python3"
  },
  "language_info": {
   "codemirror_mode": {
    "name": "ipython",
    "version": 3
   },
   "file_extension": ".py",
   "mimetype": "text/x-python",
   "name": "python",
   "nbconvert_exporter": "python",
   "pygments_lexer": "ipython3",
   "version": "3.7.3"
  }
 },
 "nbformat": 4,
 "nbformat_minor": 2
}
