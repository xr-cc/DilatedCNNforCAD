{
 "cells": [
  {
   "cell_type": "markdown",
   "metadata": {},
   "source": [
    "# The baseline SVM model (downsampled for efficiency) used as benchmark"
   ]
  },
  {
   "cell_type": "code",
   "execution_count": 1,
   "metadata": {},
   "outputs": [
    {
     "name": "stderr",
     "output_type": "stream",
     "text": [
      "Using TensorFlow backend.\n",
      "/opt/anaconda3/lib/python3.7/site-packages/tensorflow/python/framework/dtypes.py:516: FutureWarning: Passing (type, 1) or '1type' as a synonym of type is deprecated; in a future version of numpy, it will be understood as (type, (1,)) / '(1,)type'.\n",
      "  _np_qint8 = np.dtype([(\"qint8\", np.int8, 1)])\n",
      "/opt/anaconda3/lib/python3.7/site-packages/tensorflow/python/framework/dtypes.py:517: FutureWarning: Passing (type, 1) or '1type' as a synonym of type is deprecated; in a future version of numpy, it will be understood as (type, (1,)) / '(1,)type'.\n",
      "  _np_quint8 = np.dtype([(\"quint8\", np.uint8, 1)])\n",
      "/opt/anaconda3/lib/python3.7/site-packages/tensorflow/python/framework/dtypes.py:518: FutureWarning: Passing (type, 1) or '1type' as a synonym of type is deprecated; in a future version of numpy, it will be understood as (type, (1,)) / '(1,)type'.\n",
      "  _np_qint16 = np.dtype([(\"qint16\", np.int16, 1)])\n",
      "/opt/anaconda3/lib/python3.7/site-packages/tensorflow/python/framework/dtypes.py:519: FutureWarning: Passing (type, 1) or '1type' as a synonym of type is deprecated; in a future version of numpy, it will be understood as (type, (1,)) / '(1,)type'.\n",
      "  _np_quint16 = np.dtype([(\"quint16\", np.uint16, 1)])\n",
      "/opt/anaconda3/lib/python3.7/site-packages/tensorflow/python/framework/dtypes.py:520: FutureWarning: Passing (type, 1) or '1type' as a synonym of type is deprecated; in a future version of numpy, it will be understood as (type, (1,)) / '(1,)type'.\n",
      "  _np_qint32 = np.dtype([(\"qint32\", np.int32, 1)])\n",
      "/opt/anaconda3/lib/python3.7/site-packages/tensorflow/python/framework/dtypes.py:525: FutureWarning: Passing (type, 1) or '1type' as a synonym of type is deprecated; in a future version of numpy, it will be understood as (type, (1,)) / '(1,)type'.\n",
      "  np_resource = np.dtype([(\"resource\", np.ubyte, 1)])\n",
      "/opt/anaconda3/lib/python3.7/site-packages/tensorboard/compat/tensorflow_stub/dtypes.py:541: FutureWarning: Passing (type, 1) or '1type' as a synonym of type is deprecated; in a future version of numpy, it will be understood as (type, (1,)) / '(1,)type'.\n",
      "  _np_qint8 = np.dtype([(\"qint8\", np.int8, 1)])\n",
      "/opt/anaconda3/lib/python3.7/site-packages/tensorboard/compat/tensorflow_stub/dtypes.py:542: FutureWarning: Passing (type, 1) or '1type' as a synonym of type is deprecated; in a future version of numpy, it will be understood as (type, (1,)) / '(1,)type'.\n",
      "  _np_quint8 = np.dtype([(\"quint8\", np.uint8, 1)])\n",
      "/opt/anaconda3/lib/python3.7/site-packages/tensorboard/compat/tensorflow_stub/dtypes.py:543: FutureWarning: Passing (type, 1) or '1type' as a synonym of type is deprecated; in a future version of numpy, it will be understood as (type, (1,)) / '(1,)type'.\n",
      "  _np_qint16 = np.dtype([(\"qint16\", np.int16, 1)])\n",
      "/opt/anaconda3/lib/python3.7/site-packages/tensorboard/compat/tensorflow_stub/dtypes.py:544: FutureWarning: Passing (type, 1) or '1type' as a synonym of type is deprecated; in a future version of numpy, it will be understood as (type, (1,)) / '(1,)type'.\n",
      "  _np_quint16 = np.dtype([(\"quint16\", np.uint16, 1)])\n",
      "/opt/anaconda3/lib/python3.7/site-packages/tensorboard/compat/tensorflow_stub/dtypes.py:545: FutureWarning: Passing (type, 1) or '1type' as a synonym of type is deprecated; in a future version of numpy, it will be understood as (type, (1,)) / '(1,)type'.\n",
      "  _np_qint32 = np.dtype([(\"qint32\", np.int32, 1)])\n",
      "/opt/anaconda3/lib/python3.7/site-packages/tensorboard/compat/tensorflow_stub/dtypes.py:550: FutureWarning: Passing (type, 1) or '1type' as a synonym of type is deprecated; in a future version of numpy, it will be understood as (type, (1,)) / '(1,)type'.\n",
      "  np_resource = np.dtype([(\"resource\", np.ubyte, 1)])\n"
     ]
    }
   ],
   "source": [
    "import keras\n",
    "import glob\n",
    "import numpy as np\n",
    "import matplotlib.pyplot as plt\n",
    "\n",
    "# #import the Sequential model class. \n",
    "# from tensorflow.keras.models import Sequential, Model\n",
    "# from tensorflow.keras.utils import plot_model\n",
    "# from tensorflow.keras import Input\n",
    "\n",
    "# #Core layers \n",
    "# from tensorflow.keras.layers import Dense, Activation,Dropout,Flatten\n",
    "\n",
    "# #Convolution layers \n",
    "# from tensorflow.keras.layers import Conv1D, Conv2D \n",
    "\n",
    "# from tensorflow.keras.layers import Concatenate, concatenate\n",
    "\n",
    "# #Pooling layers \n",
    "# from tensorflow.keras.layers import MaxPooling1D, MaxPooling2D, AveragePooling1D, AveragePooling2D \n",
    "\n",
    "# #Recurrent layers \n",
    "# # from tensorflow.keras.layers import Recurrent, SimpleRNN, GRU, LSTM\n",
    "\n",
    "# #Embedding layers \n",
    "# from tensorflow.keras.layers import Embedding\n",
    "\n",
    "# #Merge layers \n",
    "# from tensorflow.keras.layers import Add, Multiply, Average, Maximum, Concatenate, Dot\n",
    "\n",
    "# #Normalization layers \n",
    "# from tensorflow.keras.layers import BatchNormalization \n",
    "\n",
    "# from tensorflow.keras.models import load_model\n",
    "\n",
    "from scipy.stats import spearmanr, pearsonr"
   ]
  },
  {
   "cell_type": "code",
   "execution_count": 2,
   "metadata": {},
   "outputs": [],
   "source": [
    "downsample_rate = 10\n",
    "\n",
    "def process_data():\n",
    "    test_X_files = glob.glob(dir_name+'/sequences/test*')\n",
    "    example_file = np.load(test_X_files[0], allow_pickle=True)\n",
    "    num_bp = int(example_file.size/4)\n",
    "    print(\"test_X_files:\", len(test_X_files))\n",
    "    num_examples = int((len(test_X_files))/downsample_rate)\n",
    "    test_X = np.empty((num_examples, num_bp, 4), dtype=np.float32)\n",
    "    for i in range(num_examples):\n",
    "        test_X_file = test_X_files[i]\n",
    "        example = np.load(test_X_file, allow_pickle=True)\n",
    "        np.resize(example, (num_bp, 4))\n",
    "        test_X[i,:,:] = example\n",
    "    \n",
    "    test_y_files = glob.glob(dir_name+'/peak_data/test*')\n",
    "    example_file = np.load(test_y_files[0], allow_pickle=True)\n",
    "    test_y = np.empty((num_examples, example_file.size))\n",
    "    for i in range(num_examples):\n",
    "        test_y_file = test_y_files[i]\n",
    "        example = np.load(test_y_file, allow_pickle=True)\n",
    "        test_y[i,:] = example\n",
    "        \n",
    "    train_X_files = glob.glob(dir_name+'/sequences/train*')\n",
    "    example_file = np.load(train_X_files[0], allow_pickle=True)\n",
    "    num_bp = int(example_file.size/4)\n",
    "    print(\"train_X_files:\", len(train_X_files))\n",
    "    num_examples = int((len(train_X_files))/downsample_rate)\n",
    "    train_X = np.empty((num_examples, num_bp, 4), dtype=np.float32)\n",
    "    for i in range(num_examples):\n",
    "        train_X_file = train_X_files[i]\n",
    "        example = np.load(train_X_file, allow_pickle=True)\n",
    "        np.resize(example, (num_bp, 4))\n",
    "        train_X[i,:,:] = example\n",
    "    \n",
    "    train_y_files = glob.glob(dir_name+'/peak_data/train*')\n",
    "    example_file = np.load(train_y_files[0], allow_pickle=True)   # fixed a typo here\n",
    "    train_y = np.empty((num_examples, example_file.size))\n",
    "    for i in range(num_examples):\n",
    "        train_y_file = train_y_files[i]\n",
    "        example = np.load(train_y_file, allow_pickle=True)\n",
    "        train_y[i,:] = example\n",
    "        \n",
    "    val_X_files = glob.glob(dir_name+'/sequences/validation*')\n",
    "    example_file = np.load(val_X_files[0], allow_pickle=True)\n",
    "    num_bp = int(example_file.size/4)\n",
    "    print(\"val_X_files:\", len(val_X_files))\n",
    "    num_examples = int((len(val_X_files))/downsample_rate)\n",
    "    val_X = np.empty((num_examples, num_bp, 4), dtype=np.float32)\n",
    "    \n",
    "    return train_X, train_y, test_X, test_y、"
   ]
  },
  {
   "cell_type": "code",
   "execution_count": 3,
   "metadata": {},
   "outputs": [],
   "source": [
    "# global vars\n",
    "dir_name = '/data/smooth_muscle_cells'\n",
    "normalization = True\n",
    "max_peak_val = 3\n",
    "# num_filters = 64\n",
    "num_filters = 32\n",
    "kernel_size = 24\n",
    "pooling_size = 4\n",
    "dilation_rate = 2\n",
    "dropout_rate = 0.3"
   ]
  },
  {
   "cell_type": "code",
   "execution_count": 4,
   "metadata": {},
   "outputs": [
    {
     "name": "stdout",
     "output_type": "stream",
     "text": [
      "test_X_files: 3673\n",
      "train_X_files: 97451\n",
      "val_X_files: 4519\n"
     ]
    }
   ],
   "source": [
    "train_X_forward, train_y, test_X_forward, test_y = process_data()"
   ]
  },
  {
   "cell_type": "code",
   "execution_count": 6,
   "metadata": {},
   "outputs": [
    {
     "name": "stdout",
     "output_type": "stream",
     "text": [
      "(9745, 3000)\n",
      "(367, 3000)\n",
      "(451, 3000)\n",
      "(9745, 13000, 4)\n",
      "(367, 13000, 4)\n",
      "(451, 13000, 4)\n"
     ]
    },
    {
     "name": "stderr",
     "output_type": "stream",
     "text": [
      "/opt/anaconda3/lib/python3.7/site-packages/ipykernel_launcher.py:2: RuntimeWarning: invalid value encountered in greater\n",
      "  \n"
     ]
    }
   ],
   "source": [
    "# remove outliers & normalize\n",
    "train_y[train_y > max_peak_val] = max_peak_val\n",
    "test_y[test_y > max_peak_val] = max_peak_val\n",
    "val_y[val_y > max_peak_val] = max_peak_val\n",
    "\n",
    "train_X = train_X_forward\n",
    "test_X = test_X_forward\n",
    "val_X = val_X_forward\n",
    "\n",
    "print(train_y.shape)\n",
    "print(test_y.shape)\n",
    "print(val_y.shape)\n",
    "\n",
    "print(train_X.shape)\n",
    "print(test_X.shape)\n",
    "print(val_X.shape)"
   ]
  },
  {
   "cell_type": "code",
   "execution_count": 7,
   "metadata": {},
   "outputs": [],
   "source": [
    "'''\n",
    "Function to extract X & y data for benchmark regressor\n",
    "(Those regressors predict one point at a time.)\n",
    "'''\n",
    "def extract_benchmark_data(sample_Xs, sample_ys, half_center_size,half_feature_size):\n",
    "       \n",
    "    half_y_length = int(np.floor(sample_ys.shape[1]/2))\n",
    "    \n",
    "    if (4*half_center_size) > sample_ys.shape[1]:\n",
    "        print(\"ERROR: y out of range.\")\n",
    "        return [],[]\n",
    "    if (2*half_feature_size+4*half_center_size) > sample_Xs.shape[1]:\n",
    "        print(\"ERROR: X out of range.\")\n",
    "        return [],[]\n",
    "    \n",
    "    # from center\n",
    "    # label (Y)\n",
    "    lb_center_idx = int(np.ceil(sample_ys.shape[1]/2))\n",
    "    lb_h_idx = lb_center_idx-half_center_size\n",
    "    lb_t_idx = lb_center_idx+half_center_size\n",
    "    seg_y = sample_ys[:,lb_h_idx:lb_t_idx]\n",
    "    \n",
    "    # add reference from non-peak    \n",
    "    seg_y = np.concatenate((seg_y,\n",
    "                            sample_ys[:,lb_center_idx-half_y_length:lb_center_idx-half_y_length+half_center_size],\n",
    "                           sample_ys[:,lb_center_idx+half_y_length-half_center_size:lb_center_idx+half_y_length]),                          \n",
    "                           axis=1)\n",
    "\n",
    "    # feature (X)\n",
    "    ft_center_idx = int(np.ceil(sample_Xs.shape[1]/2))\n",
    "    ftlb_h_idx = ft_center_idx-half_center_size\n",
    "    ftlb_t_idx = ft_center_idx+half_center_size\n",
    "\n",
    "    seg_X = np.empty([sample_Xs.shape[0],1,2*half_feature_size*sample_Xs.shape[2]])\n",
    "    for idx in range(ftlb_h_idx,ftlb_t_idx):\n",
    "        ft_h_idx = idx-half_feature_size\n",
    "        ft_t_idx = idx+half_feature_size\n",
    "        seg_features_idx = sample_Xs[:,ft_h_idx:ft_t_idx,:]\n",
    "        seg_features_idx = seg_features_idx.reshape(seg_features_idx.shape[0],1,-1)\n",
    "        seg_X = np.concatenate((seg_X, seg_features_idx), axis=1)\n",
    "    # add reference from non-peak    \n",
    "    for idx in range(ft_center_idx-half_y_length,ft_center_idx-half_y_length+half_center_size):\n",
    "        ft_h_idx = idx-half_feature_size\n",
    "        ft_t_idx = idx+half_feature_size\n",
    "        seg_features_idx = sample_Xs[:,ft_h_idx:ft_t_idx,:]\n",
    "        seg_features_idx = seg_features_idx.reshape(seg_features_idx.shape[0],1,-1)\n",
    "        seg_X = np.concatenate((seg_X, seg_features_idx), axis=1)\n",
    "    for idx in range(ft_center_idx+half_y_length-half_center_size,ft_center_idx+half_y_length):\n",
    "        ft_h_idx = idx-half_feature_size\n",
    "        ft_t_idx = idx+half_feature_size\n",
    "        seg_features_idx = sample_Xs[:,ft_h_idx:ft_t_idx,:]\n",
    "        seg_features_idx = seg_features_idx.reshape(seg_features_idx.shape[0],1,-1)\n",
    "        seg_X = np.concatenate((seg_X, seg_features_idx), axis=1)\n",
    "        \n",
    "    seg_X = seg_X[:,1:,:]\n",
    "        \n",
    "\n",
    "    # X and y for SVM \n",
    "    bm_X = seg_X.reshape(-1,seg_X.shape[-1])\n",
    "    bm_y = seg_y.flatten()\n",
    "    \n",
    "    return bm_X,bm_y"
   ]
  },
  {
   "cell_type": "code",
   "execution_count": 8,
   "metadata": {},
   "outputs": [],
   "source": [
    "from sklearn import svm\n",
    "from sklearn.model_selection import GridSearchCV\n",
    "from sklearn import metrics \n",
    "from sklearn.ensemble import RandomForestRegressor\n",
    "from sklearn.svm import LinearSVR\n",
    "\n",
    "from scipy import sparse\n",
    "import time\n",
    "import random"
   ]
  },
  {
   "cell_type": "code",
   "execution_count": 9,
   "metadata": {},
   "outputs": [
    {
     "name": "stdout",
     "output_type": "stream",
     "text": [
      "Check the dimensions of data:\n",
      "(77960, 200)\n",
      "(77960,)\n",
      "(2936, 200)\n",
      "(2936,)\n",
      "mean of train y: 1.5538261143409484\n",
      "mean of test y: 1.5942719453801109\n"
     ]
    }
   ],
   "source": [
    "# extract train/val/test data for benchmark regressor\n",
    "\n",
    "# total_train = train_y.shape[0]\n",
    "# total_test = test_y.shape[0]\n",
    "# total_val = val_y.shape[0]\n",
    "\n",
    "half_center_size = 2  # +/- values around a peak to predict\n",
    "half_feature_size = 25 # +/- values around each point to take in as features\n",
    "\n",
    "# indices = np.concatenate((range(3916),range(3916,train_y.shape[0])),axis=0)\n",
    "indices = range(train_y.shape[0])\n",
    "\n",
    "# num_train, num_val, num_test = 500, 100, 100\n",
    "# idx_train = random.sample(range(total_train), num_train)\n",
    "# idx_test = random.sample(range(total_test), num_val)\n",
    "# idx_val = random.sample(range(total_val), num_test)\n",
    "\n",
    "bm_train_X,bm_train_y = extract_benchmark_data(train_X[indices,:], train_y[indices,:], half_center_size,half_feature_size)\n",
    "bm_test_X,bm_test_y = extract_benchmark_data(test_X, test_y, half_center_size,half_feature_size)\n",
    "# bm_val_X,bm_val_y = extract_benchmark_data(val_X, val_y, half_center_size,half_feature_size)\n",
    "\n",
    "# check \n",
    "print(\"Check the dimensions of data:\")\n",
    "print(bm_train_X.shape)\n",
    "print(bm_train_y.shape)\n",
    "print(bm_test_X.shape)\n",
    "print(bm_test_y.shape)\n",
    "# print(bm_val_X.shape)\n",
    "# print(bm_val_y.shape)\n",
    "\n",
    "# remove NaNs\n",
    "nan_ind = np.where(np.isnan(bm_train_y))[0]\n",
    "fixed_y = np.delete(bm_train_y,nan_ind)\n",
    "fixed_X = np.delete(bm_train_X,nan_ind,0)\n",
    "bm_train_y = fixed_y\n",
    "bm_train_X = fixed_X\n",
    "\n",
    "print(\"mean of train y:\",np.mean(bm_train_y))\n",
    "print(\"mean of test y:\",np.mean(bm_test_y))\n",
    "# print(\"mean of val y:\",np.mean(bm_val_y))"
   ]
  },
  {
   "cell_type": "code",
   "execution_count": 12,
   "metadata": {},
   "outputs": [],
   "source": [
    "# sparse matrix\n",
    "s_bm_train_X = sparse.csr_matrix(bm_train_X)\n",
    "s_bm_test_X = sparse.csr_matrix(bm_test_X)"
   ]
  },
  {
   "cell_type": "code",
   "execution_count": null,
   "metadata": {},
   "outputs": [],
   "source": [
    "# SVM\n",
    "print(\"SVM Regression\")\n",
    "\n",
    "svm_regr = svm.SVR(gamma='scale')\n",
    "\n",
    "tic = time.perf_counter()\n",
    "svm_regr.fit(s_bm_train_X, bm_train_y) \n",
    "toc = time.perf_counter()"
   ]
  },
  {
   "cell_type": "code",
   "execution_count": null,
   "metadata": {},
   "outputs": [],
   "source": [
    "from sklearn.externals import joblib\n",
    "\n",
    "svm_regr = joblib.load('finalized_model.sav')\n"
   ]
  },
  {
   "cell_type": "code",
   "execution_count": 13,
   "metadata": {},
   "outputs": [],
   "source": [
    "svm_pred_y = svm_regr.predict(s_bm_test_X)\n",
    "svm_mse = metrics.mean_squared_error(bm_test_y, svm_pred_y)  \n",
    "svm_r2 = metrics.r2_score(bm_test_y, svm_pred_y)  "
   ]
  },
  {
   "cell_type": "code",
   "execution_count": 15,
   "metadata": {},
   "outputs": [
    {
     "name": "stdout",
     "output_type": "stream",
     "text": [
      "train X: (77958, 200)\n",
      "train y: (77958,)\n",
      "test X: (2936, 200)\n",
      "test y: (2936,)\n",
      "\n",
      "SVR(C=1.0, cache_size=200, coef0=0.0, degree=3, epsilon=0.1, gamma='scale',\n",
      "    kernel='rbf', max_iter=-1, shrinking=True, tol=0.001, verbose=False)\n",
      "MSE: 1.3016429041098743\n",
      "R2: 0.0626582995894408\n"
     ]
    }
   ],
   "source": [
    "print(\"train X:\", bm_train_X.shape)\n",
    "print(\"train y:\", bm_train_y.shape)\n",
    "print(\"test X:\", bm_test_X.shape)\n",
    "print(\"test y:\", bm_test_y.shape)\n",
    "print()\n",
    "print(svm_regr)\n",
    "print(\"MSE:\",svm_mse)\n",
    "print(\"R2:\",svm_r2)\n",
    "# print(\"Elapsed time:\",str(toc-tic))"
   ]
  },
  {
   "cell_type": "code",
   "execution_count": 17,
   "metadata": {},
   "outputs": [],
   "source": [
    "import seaborn as sns\n"
   ]
  },
  {
   "cell_type": "code",
   "execution_count": 24,
   "metadata": {},
   "outputs": [
    {
     "data": {
      "image/png": "[encoded data removed]",
      "text/plain": [
       "<Figure size 432x288 with 1 Axes>"
      ]
     },
     "metadata": {},
     "output_type": "display_data"
    }
   ],
   "source": [
    "# plot performance\n",
    "sns.set_style(\"white\")\n",
    "sns.kdeplot(bm_test_y, svm_pred_y, cmap=\"Blues\", shade=True, shade_lowest=True, )\n",
    "plt.title(\"Density plot of SVM prediction vs. true\")\n",
    "plt.xlabel(\"true y\")\n",
    "plt.ylabel(\"predicted y\")\n",
    "plt.show()\n"
   ]
  },
  {
   "cell_type": "code",
   "execution_count": 16,
   "metadata": {},
   "outputs": [
    {
     "data": {
      "text/plain": [
       "Text(0, 0.5, 'predicted y')"
      ]
     },
     "execution_count": 16,
     "metadata": {},
     "output_type": "execute_result"
    },
    {
     "data": {
      "image/png": "[encoded data removed]",
      "text/plain": [
       "<Figure size 432x288 with 1 Axes>"
      ]
     },
     "metadata": {
      "needs_background": "light"
     },
     "output_type": "display_data"
    }
   ],
   "source": [
    "# plot pred vs. true\n",
    "plt.figure()\n",
    "plt.scatter(bm_test_y, svm_pred_y, alpha=0.5)\n",
    "plt.title(\"SVM\")\n",
    "plt.xlabel(\"true y\")\n",
    "plt.ylabel(\"predicted y\")"
   ]
  },
  {
   "cell_type": "code",
   "execution_count": 56,
   "metadata": {},
   "outputs": [
    {
     "name": "stdout",
     "output_type": "stream",
     "text": [
      "Pearson R: 0.349831172078187\n",
      "Spearsman R: 0.35662567444451704\n"
     ]
    }
   ],
   "source": [
    "from scipy import stats\n",
    "\n",
    "svm_prn = stats.pearsonr(bm_test_y, svm_pred_y)\n",
    "svm_sprm = stats.spearmanr(bm_test_y, svm_pred_y)\n",
    "\n",
    "print(\"Pearson R:\",svm_prn[0])\n",
    "print(\"Spearsman R:\",svm_sprm[0])"
   ]
  },
  {
   "cell_type": "code",
   "execution_count": null,
   "metadata": {},
   "outputs": [],
   "source": [
    "from sklearn.externals import joblib\n",
    "\n",
    "# save model\n",
    "filename = 'finalized_model.sav'\n",
    "joblib.dump(svm_regr, filename)"
   ]
  },
  {
   "cell_type": "code",
   "execution_count": 70,
   "metadata": {},
   "outputs": [
    {
     "name": "stdout",
     "output_type": "stream",
     "text": [
      "[1.61549907 1.65633505 2.05254305 ... 0.85928312 2.51726331 2.2144205 ]\n"
     ]
    }
   ],
   "source": [
    "# load model\n",
    "loaded_model = joblib.load(filename)\n",
    "loaded_pred = loaded_model.predict(s_bm_test_X)\n",
    "print(metrics.mean_squared_error(bm_test_y,loaded_pred))"
   ]
  },
  {
   "cell_type": "code",
   "execution_count": null,
   "metadata": {},
   "outputs": [],
   "source": []
  }
 ],
 "metadata": {
  "kernelspec": {
   "display_name": "Python 3",
   "language": "python",
   "name": "python3"
  },
  "language_info": {
   "codemirror_mode": {
    "name": "ipython",
    "version": 3
   },
   "file_extension": ".py",
   "mimetype": "text/x-python",
   "name": "python",
   "nbconvert_exporter": "python",
   "pygments_lexer": "ipython3",
   "version": "3.7.3"
  }
 },
 "nbformat": 4,
 "nbformat_minor": 2
}
